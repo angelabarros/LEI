{
 "cells": [
  {
   "cell_type": "markdown",
   "metadata": {},
   "source": [
    "## Graph Convolutions For SIDER"
   ]
  },
  {
   "cell_type": "code",
   "execution_count": 1,
   "metadata": {},
   "outputs": [
    {
     "name": "stderr",
     "output_type": "stream",
     "text": [
      "/home/mamonteiro/anaconda3/envs/lei_deepchem_env/lib/python3.6/site-packages/sklearn/ensemble/weight_boosting.py:29: DeprecationWarning: numpy.core.umath_tests is an internal NumPy module and should not be imported. It will be removed in a future NumPy release.\n",
      "  from numpy.core.umath_tests import inner1d\n"
     ]
    }
   ],
   "source": [
    "from __future__ import division\n",
    "from __future__ import print_function\n",
    "from __future__ import unicode_literals\n",
    "\n",
    "import numpy as np\n",
    "import tensorflow as tf\n",
    "import deepchem as dc\n",
    "from deepchem.models.tensorgraph.models.graph_models import GraphConvModel"
   ]
  },
  {
   "cell_type": "markdown",
   "metadata": {},
   "source": [
    "# Load SIDER Dataset"
   ]
  },
  {
   "cell_type": "code",
   "execution_count": 3,
   "metadata": {},
   "outputs": [
    {
     "name": "stdout",
     "output_type": "stream",
     "text": [
      "Loading dataset from disk.\n",
      "Loading dataset from disk.\n",
      "Loading dataset from disk.\n"
     ]
    }
   ],
   "source": [
    "sider_tasks, sider_datasets, transformers = dc.molnet.load_sider(featurizer='GraphConv')\n",
    "train_dataset, valid_dataset, test_dataset = sider_datasets"
   ]
  },
  {
   "cell_type": "code",
   "execution_count": 4,
   "metadata": {
    "scrolled": true
   },
   "outputs": [
    {
     "name": "stderr",
     "output_type": "stream",
     "text": [
      "/home/mamonteiro/anaconda3/envs/lei_deepchem_env/lib/python3.6/site-packages/tensorflow/python/ops/gradients_impl.py:98: UserWarning: Converting sparse IndexedSlices to a dense Tensor of unknown shape. This may consume a large amount of memory.\n",
      "  \"Converting sparse IndexedSlices to a dense Tensor of unknown shape. \"\n"
     ]
    },
    {
     "data": {
      "text/plain": [
       "864.0437170940896"
      ]
     },
     "execution_count": 4,
     "metadata": {},
     "output_type": "execute_result"
    }
   ],
   "source": [
    "model = GraphConvModel(\n",
    "    len(sider_tasks), batch_size=50, mode='classification')\n",
    "# Set nb_epoch=10 for better results.\n",
    "model.fit(train_dataset, nb_epoch=1)"
   ]
  },
  {
   "cell_type": "code",
   "execution_count": 5,
   "metadata": {},
   "outputs": [
    {
     "name": "stdout",
     "output_type": "stream",
     "text": [
      "Evaluating model\n",
      "computed_metrics: [0.553339494762785, 0.506296653820363, 0.6658692185007975, 0.5798156338780165, 0.5988136826783115, 0.5715670119556617, 0.5032256344636383, 0.5758516951762942, 0.5203966993375431, 0.5170794271794493, 0.613016707192721, 0.6035666026598393, 0.6056331506411066, 0.5540155440414508, 0.5561186135188254, 0.5574666501976284, 0.4503953545836422, 0.5250652971018133, 0.5881317369736303, 0.5468546593895289, 0.5577992357504062, 0.5791398351740016, 0.6362290862290862, 0.5593814864773308, 0.519946574135272, 0.4779405901116427, 0.5391352396739881]\n",
      "Training ROC-AUC Score: 0.557855\n",
      "computed_metrics: [0.5727848101265822, 0.5016501650165016, 0.4295774647887324, 0.4722111155537785, 0.5356874530428248, 0.537092731829574, 0.47840531561461797, 0.5983050847457627, 0.4929078014184397, 0.4801259346713892, 0.5909346846846847, 0.5764462809917354, 0.6092436974789917, 0.5109756097560976, 0.5557522123893806, 0.5430300313760645, 0.5497047244094488, 0.6167056986729118, 0.5688372093023256, 0.5310307609282245, 0.5074418604651163, 0.5078158923143725, 0.6596692111959287, 0.4849041207670338, 0.4251456745853877, 0.5896946564885497, 0.5707587382779198]\n",
      "Validation ROC-AUC Score: 0.536920\n"
     ]
    }
   ],
   "source": [
    "metric = dc.metrics.Metric(\n",
    "    dc.metrics.roc_auc_score, np.mean, mode=\"classification\")\n",
    "\n",
    "print(\"Evaluating model\")\n",
    "train_scores = model.evaluate(train_dataset, [metric], transformers)\n",
    "print(\"Training ROC-AUC Score: %f\" % train_scores[\"mean-roc_auc_score\"])\n",
    "valid_scores = model.evaluate(valid_dataset, [metric], transformers)\n",
    "print(\"Validation ROC-AUC Score: %f\" % valid_scores[\"mean-roc_auc_score\"])"
   ]
  },
  {
   "cell_type": "code",
   "execution_count": 10,
   "metadata": {},
   "outputs": [
    {
     "data": {
      "text/plain": [
       "733.9605772156647"
      ]
     },
     "execution_count": 10,
     "metadata": {},
     "output_type": "execute_result"
    }
   ],
   "source": [
    "model = GraphConvModel(\n",
    "    len(sider_tasks), batch_size=50, mode='classification')\n",
    "# Set nb_epoch=10 for better results.\n",
    "model.fit(train_dataset, nb_epoch=15)"
   ]
  },
  {
   "cell_type": "code",
   "execution_count": 11,
   "metadata": {},
   "outputs": [
    {
     "name": "stdout",
     "output_type": "stream",
     "text": [
      "Evaluating model\n",
      "computed_metrics: [0.7604220579174368, 0.7266979595746719, 0.9940425931138006, 0.7261236973416212, 0.7697258612324114, 0.7338903447324676, 0.8341427712828865, 0.8023132841858842, 0.7169836903885639, 0.7777183140178637, 0.7840771825241195, 0.7589253964867364, 0.7913225401796614, 0.7916524375883185, 0.7555407620755554, 0.7672291059912628, 0.7739189523103533, 0.7743332161334069, 0.721673939800828, 0.7259369314736204, 0.7410742206866043, 0.7388542257515599, 0.8648372862658577, 0.7269843616228435, 0.7284680913563928, 0.8340011961722489, 0.7177407100428236]\n",
      "Training ROC-AUC Score: 0.771801\n",
      "computed_metrics: [0.6722705696202532, 0.4752475247524752, 0.3661971830985915, 0.5989604158336664, 0.6419984973703983, 0.468671679197995, 0.6389811738648947, 0.5735593220338983, 0.5166223404255319, 0.6009445100354192, 0.6131756756756757, 0.4683195592286501, 0.5588235294117647, 0.6288617886178862, 0.6097345132743364, 0.6485880770954728, 0.6624015748031497, 0.5534738485558157, 0.611860465116279, 0.5456017269293039, 0.5662790697674418, 0.6204950065132436, 0.7232824427480916, 0.5573235414116686, 0.6602420439264904, 0.6393129770992367, 0.5068201193520887]\n",
      "Validation ROC-AUC Score: 0.582520\n"
     ]
    }
   ],
   "source": [
    "metric = dc.metrics.Metric(\n",
    "    dc.metrics.roc_auc_score, np.mean, mode=\"classification\")\n",
    "\n",
    "print(\"Evaluating model\")\n",
    "train_scores = model.evaluate(train_dataset, [metric], transformers)\n",
    "print(\"Training ROC-AUC Score: %f\" % train_scores[\"mean-roc_auc_score\"])\n",
    "valid_scores = model.evaluate(valid_dataset, [metric], transformers)\n",
    "print(\"Validation ROC-AUC Score: %f\" % valid_scores[\"mean-roc_auc_score\"])"
   ]
  },
  {
   "cell_type": "code",
   "execution_count": null,
   "metadata": {},
   "outputs": [],
   "source": []
  },
  {
   "cell_type": "code",
   "execution_count": null,
   "metadata": {},
   "outputs": [],
   "source": []
  },
  {
   "cell_type": "code",
   "execution_count": null,
   "metadata": {},
   "outputs": [],
   "source": []
  }
 ],
 "metadata": {
  "kernelspec": {
   "display_name": "Python 3",
   "language": "python",
   "name": "python3"
  },
  "language_info": {
   "codemirror_mode": {
    "name": "ipython",
    "version": 3
   },
   "file_extension": ".py",
   "mimetype": "text/x-python",
   "name": "python",
   "nbconvert_exporter": "python",
   "pygments_lexer": "ipython3",
   "version": "3.6.6"
  }
 },
 "nbformat": 4,
 "nbformat_minor": 2
}
